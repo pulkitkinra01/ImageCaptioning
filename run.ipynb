{
  "nbformat": 4,
  "nbformat_minor": 0,
  "metadata": {
    "colab": {
      "name": "Untitled0.ipynb",
      "provenance": [],
      "authorship_tag": "ABX9TyM2ERYWJ4bWwANZTW1kerEP",
      "include_colab_link": true
    },
    "kernelspec": {
      "name": "python3",
      "display_name": "Python 3"
    },
    "language_info": {
      "name": "python"
    },
    "accelerator": "GPU"
  },
  "cells": [
    {
      "cell_type": "markdown",
      "metadata": {
        "id": "view-in-github",
        "colab_type": "text"
      },
      "source": [
        "<a href=\"https://colab.research.google.com/github/pulkitkinra01/ImageCaptioning/blob/main/run.ipynb\" target=\"_parent\"><img src=\"https://colab.research.google.com/assets/colab-badge.svg\" alt=\"Open In Colab\"/></a>"
      ]
    },
    {
      "cell_type": "code",
      "metadata": {
        "colab": {
          "base_uri": "https://localhost:8080/"
        },
        "id": "bzhZKA4D-6IY",
        "outputId": "d897efda-5e08-49fa-deec-70ff19e16694"
      },
      "source": [
        "# from google.colab import drive\n",
        "# drive.mount('/content/gdrive')"
      ],
      "execution_count": 1,
      "outputs": [
        {
          "output_type": "stream",
          "text": [
            "Mounted at /content/gdrive\n"
          ],
          "name": "stdout"
        }
      ]
    },
    {
      "cell_type": "code",
      "metadata": {
        "colab": {
          "base_uri": "https://localhost:8080/"
        },
        "id": "okt4cT9F_sJd",
        "outputId": "7da60524-9c36-4a85-f85a-816aab374b46"
      },
      "source": [
        "# https://github.com/pulkitkinra01/ImageCaptioning.git\n",
        "\n",
        "# Clone the entire repo.\n",
        "!git clone -l -s https://github.com/pulkitkinra01/ImageCaptioning.git cloned-repo\n",
        "%cd cloned-repo\n",
        "!ls"
      ],
      "execution_count": 1,
      "outputs": [
        {
          "output_type": "stream",
          "text": [
            "Cloning into 'cloned-repo'...\n",
            "warning: --local is ignored\n",
            "remote: Enumerating objects: 8104, done.\u001b[K\n",
            "remote: Counting objects: 100% (8104/8104), done.\u001b[K\n",
            "remote: Compressing objects: 100% (8100/8100), done.\u001b[K\n",
            "remote: Total 8104 (delta 4), reused 8104 (delta 4), pack-reused 0\u001b[K\n",
            "Receiving objects: 100% (8104/8104), 1.03 GiB | 41.71 MiB/s, done.\n",
            "Resolving deltas: 100% (4/4), done.\n",
            "Checking out files: 100% (8100/8100), done.\n",
            "/content/cloned-repo\n",
            "Data\n"
          ],
          "name": "stdout"
        }
      ]
    },
    {
      "cell_type": "code",
      "metadata": {
        "id": "fnTiW61S_5Y0"
      },
      "source": [
        ""
      ],
      "execution_count": null,
      "outputs": []
    }
  ]
}